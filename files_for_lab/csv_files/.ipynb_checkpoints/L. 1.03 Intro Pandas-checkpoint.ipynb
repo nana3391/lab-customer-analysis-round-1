{
 "cells": [
  {
   "cell_type": "code",
   "execution_count": null,
   "metadata": {
    "id": "DfNa7sPM9Ew2"
   },
   "outputs": [],
   "source": [
    "#!pip3 install pandas"
   ]
  },
  {
   "cell_type": "code",
   "execution_count": null,
   "metadata": {
    "id": "fBd3kp6yBBsn"
   },
   "outputs": [],
   "source": [
    "import pandas as pd  # keywords are highlighted in green, other strings in red, etc.\n",
    "import numpy as np"
   ]
  },
  {
   "cell_type": "code",
   "execution_count": null,
   "metadata": {
    "id": "t_2FiWNjBYo3"
   },
   "outputs": [],
   "source": [
    "# Reading data into a DataFrame\n",
    "file1 = pd.read_csv('file1.csv')\n",
    "display(file1.head(10))\n",
    "display(file1.tail())\n",
    "file1.shape\n"
   ]
  },
  {
   "cell_type": "code",
   "execution_count": null,
   "metadata": {
    "id": "hJUWQP8C9Ew_"
   },
   "outputs": [],
   "source": [
    "file1"
   ]
  },
  {
   "cell_type": "code",
   "execution_count": null,
   "metadata": {
    "id": "CF-BMcTQBBst"
   },
   "outputs": [],
   "source": [
    "file2 = pd.read_csv('file2.txt')  \n",
    "file2.head() # what is happening?"
   ]
  },
  {
   "cell_type": "code",
   "execution_count": null,
   "metadata": {
    "id": "wuX2gv3GBBst"
   },
   "outputs": [],
   "source": [
    "file2 = pd.read_csv('file2.txt', sep='\\t')    # | \\ / , \\t ;\n",
    "file2.shape"
   ]
  },
  {
   "cell_type": "code",
   "execution_count": null,
   "metadata": {
    "id": "2jWyViscBBsu"
   },
   "outputs": [],
   "source": [
    "# Data blending\n",
    "column_names = file1.columns\n",
    "column_names"
   ]
  },
  {
   "cell_type": "code",
   "execution_count": null,
   "metadata": {
    "id": "dJLNcPVn9ExC"
   },
   "outputs": [],
   "source": [
    "file2.columns"
   ]
  },
  {
   "cell_type": "code",
   "execution_count": null,
   "metadata": {
    "id": "E564Nk3MBBsu"
   },
   "outputs": [],
   "source": [
    "data = pd.concat([file1, file2], axis=0) #discuss axis here\n",
    "data.shape\n",
    "data"
   ]
  },
  {
   "cell_type": "code",
   "execution_count": null,
   "metadata": {
    "id": "_4tk2nQ5DRsp"
   },
   "outputs": [],
   "source": [
    "weird_data = pd.concat([file1, file2], axis=1) #axis wrong\n",
    "weird_data.tail(20)"
   ]
  },
  {
   "cell_type": "code",
   "execution_count": null,
   "metadata": {
    "id": "gTnbURRA9ExF"
   },
   "outputs": [],
   "source": [
    "data.columns[16].lower()"
   ]
  },
  {
   "cell_type": "code",
   "execution_count": null,
   "metadata": {
    "id": "sNj7wLxRBBsv"
   },
   "outputs": [],
   "source": [
    "# cols = []\n",
    "# for i in range(len(data.columns)):\n",
    "#     cols.append(data.columns[i].lower())\n",
    "# data.columns = cols\n",
    "\n",
    "# alternative for using range(len(list)) in the for loop:\n",
    "cols = []\n",
    "for column in data.columns:\n",
    "    cols.append(column.lower())\n",
    "cols\n",
    "data.columns = cols\n",
    "\n",
    "# renaming columns\n",
    "data = data.rename(columns={'controln':'id',\n",
    "                            'hv1':'median_home_val', \n",
    "                            'ic1':'median_household_income'})\n",
    "data.head()\n",
    "#data.shape\n",
    "\n",
    "data"
   ]
  },
  {
   "cell_type": "code",
   "execution_count": null,
   "metadata": {
    "id": "KENbDlQhBBsv"
   },
   "outputs": [],
   "source": [
    "#Activity 1\n"
   ]
  },
  {
   "cell_type": "code",
   "execution_count": null,
   "metadata": {
    "id": "WKX4espQ9ExH"
   },
   "outputs": [],
   "source": []
  },
  {
   "cell_type": "code",
   "execution_count": null,
   "metadata": {
    "id": "4jfoj_0rBBsv"
   },
   "outputs": [],
   "source": [
    "\n"
   ]
  },
  {
   "cell_type": "code",
   "execution_count": null,
   "metadata": {
    "id": "z37OIl4lBBsw"
   },
   "outputs": [],
   "source": [
    "\n",
    "#End of Activity 1"
   ]
  },
  {
   "cell_type": "code",
   "execution_count": null,
   "metadata": {
    "id": "2h0v2cP_GkE9"
   },
   "outputs": [],
   "source": [
    "data.head()"
   ]
  },
  {
   "cell_type": "code",
   "execution_count": null,
   "metadata": {
    "id": "nuwThGBOGhEt"
   },
   "outputs": [],
   "source": [
    "#slicing\n",
    "data.loc[[0,1,2],['id','state']]"
   ]
  },
  {
   "cell_type": "code",
   "execution_count": null,
   "metadata": {
    "id": "IkfC627DHAc-"
   },
   "outputs": [],
   "source": [
    "#slicing\n",
    "data.loc[[0,1,2],:]"
   ]
  },
  {
   "cell_type": "code",
   "execution_count": null,
   "metadata": {
    "id": "8QYDxFRXHH1V"
   },
   "outputs": [],
   "source": [
    "#slicing\n",
    "data.loc[:,['id','state']]"
   ]
  },
  {
   "cell_type": "code",
   "execution_count": null,
   "metadata": {
    "id": "dp-g3x-bHMMv"
   },
   "outputs": [],
   "source": [
    "#slicing shortcut\n",
    "data[['id','state']]"
   ]
  },
  {
   "cell_type": "code",
   "execution_count": null,
   "metadata": {
    "id": "Z6Q6F20p9ExL"
   },
   "outputs": [],
   "source": []
  },
  {
   "cell_type": "code",
   "execution_count": null,
   "metadata": {
    "id": "pXafuJgLHSl1"
   },
   "outputs": [],
   "source": [
    "#also useful to reorder columns\n",
    "data[['state','id']]"
   ]
  },
  {
   "cell_type": "code",
   "execution_count": null,
   "metadata": {
    "id": "tgYOkcJv9ExL",
    "outputId": "13ac4b96-d154-4bc5-bd8f-d5ca7fb30466"
   },
   "outputs": [
    {
     "data": {
      "text/html": [
       "<div>\n",
       "<style scoped>\n",
       "    .dataframe tbody tr th:only-of-type {\n",
       "        vertical-align: middle;\n",
       "    }\n",
       "\n",
       "    .dataframe tbody tr th {\n",
       "        vertical-align: top;\n",
       "    }\n",
       "\n",
       "    .dataframe thead th {\n",
       "        text-align: right;\n",
       "    }\n",
       "</style>\n",
       "<table border=\"1\" class=\"dataframe\">\n",
       "  <thead>\n",
       "    <tr style=\"text-align: right;\">\n",
       "      <th></th>\n",
       "      <th>id</th>\n",
       "      <th>state</th>\n",
       "      <th>gender</th>\n",
       "      <th>median_home_val</th>\n",
       "      <th>median_household_income</th>\n",
       "      <th>ic4</th>\n",
       "      <th>hvp1</th>\n",
       "      <th>ic5</th>\n",
       "      <th>pobc1</th>\n",
       "      <th>pobc2</th>\n",
       "      <th>ic2</th>\n",
       "      <th>ic3</th>\n",
       "      <th>avggift</th>\n",
       "      <th>tcode</th>\n",
       "      <th>dob</th>\n",
       "      <th>domain</th>\n",
       "      <th>target_d</th>\n",
       "    </tr>\n",
       "  </thead>\n",
       "  <tbody>\n",
       "    <tr>\n",
       "      <th>0</th>\n",
       "      <td>44060</td>\n",
       "      <td>FL</td>\n",
       "      <td>M</td>\n",
       "      <td>AAA896</td>\n",
       "      <td>392</td>\n",
       "      <td>520.0</td>\n",
       "      <td>7</td>\n",
       "      <td>21975</td>\n",
       "      <td>6</td>\n",
       "      <td>16</td>\n",
       "      <td>430.0</td>\n",
       "      <td>466</td>\n",
       "      <td>28.000000</td>\n",
       "      <td>1</td>\n",
       "      <td>1901</td>\n",
       "      <td>C2</td>\n",
       "      <td>100.0</td>\n",
       "    </tr>\n",
       "    <tr>\n",
       "      <th>1</th>\n",
       "      <td>96093</td>\n",
       "      <td>IL</td>\n",
       "      <td>M</td>\n",
       "      <td>537.00</td>\n",
       "      <td>365</td>\n",
       "      <td>473.0</td>\n",
       "      <td>0</td>\n",
       "      <td>19387</td>\n",
       "      <td>1</td>\n",
       "      <td>89</td>\n",
       "      <td>415.0</td>\n",
       "      <td>410</td>\n",
       "      <td>5.666667</td>\n",
       "      <td>0</td>\n",
       "      <td>0</td>\n",
       "      <td>T2</td>\n",
       "      <td>7.0</td>\n",
       "    </tr>\n",
       "    <tr>\n",
       "      <th>2</th>\n",
       "      <td>43333</td>\n",
       "      <td>FL</td>\n",
       "      <td>F</td>\n",
       "      <td>725.00</td>\n",
       "      <td>301</td>\n",
       "      <td>436.0</td>\n",
       "      <td>3</td>\n",
       "      <td>18837</td>\n",
       "      <td>11</td>\n",
       "      <td>17</td>\n",
       "      <td>340.0</td>\n",
       "      <td>361</td>\n",
       "      <td>4.111111</td>\n",
       "      <td>0</td>\n",
       "      <td>2501</td>\n",
       "      <td>C2</td>\n",
       "      <td>5.0</td>\n",
       "    </tr>\n",
       "    <tr>\n",
       "      <th>3</th>\n",
       "      <td>21885</td>\n",
       "      <td>NC</td>\n",
       "      <td>M</td>\n",
       "      <td>AAA1095</td>\n",
       "      <td>401</td>\n",
       "      <td>413.0</td>\n",
       "      <td>7</td>\n",
       "      <td>14014</td>\n",
       "      <td>1</td>\n",
       "      <td>74</td>\n",
       "      <td>407.0</td>\n",
       "      <td>399</td>\n",
       "      <td>27.277778</td>\n",
       "      <td>0</td>\n",
       "      <td>2208</td>\n",
       "      <td>T2</td>\n",
       "      <td>38.0</td>\n",
       "    </tr>\n",
       "    <tr>\n",
       "      <th>4</th>\n",
       "      <td>190108</td>\n",
       "      <td>FL</td>\n",
       "      <td>F</td>\n",
       "      <td>995.00</td>\n",
       "      <td>252</td>\n",
       "      <td>348.0</td>\n",
       "      <td>0</td>\n",
       "      <td>17991</td>\n",
       "      <td>5</td>\n",
       "      <td>6</td>\n",
       "      <td>280.0</td>\n",
       "      <td>316</td>\n",
       "      <td>6.000000</td>\n",
       "      <td>28</td>\n",
       "      <td>0</td>\n",
       "      <td>C2</td>\n",
       "      <td>5.0</td>\n",
       "    </tr>\n",
       "  </tbody>\n",
       "</table>\n",
       "</div>"
      ],
      "text/plain": [
       "       id state gender median_home_val  median_household_income    ic4  hvp1  \\\n",
       "0   44060    FL      M          AAA896                      392  520.0     7   \n",
       "1   96093    IL      M          537.00                      365  473.0     0   \n",
       "2   43333    FL      F          725.00                      301  436.0     3   \n",
       "3   21885    NC      M         AAA1095                      401  413.0     7   \n",
       "4  190108    FL      F          995.00                      252  348.0     0   \n",
       "\n",
       "     ic5  pobc1  pobc2    ic2  ic3    avggift  tcode   dob domain  target_d  \n",
       "0  21975      6     16  430.0  466  28.000000      1  1901     C2     100.0  \n",
       "1  19387      1     89  415.0  410   5.666667      0     0     T2       7.0  \n",
       "2  18837     11     17  340.0  361   4.111111      0  2501     C2       5.0  \n",
       "3  14014      1     74  407.0  399  27.277778      0  2208     T2      38.0  \n",
       "4  17991      5      6  280.0  316   6.000000     28     0     C2       5.0  "
      ]
     },
     "execution_count": 41,
     "metadata": {},
     "output_type": "execute_result"
    }
   ],
   "source": [
    "data.head()"
   ]
  },
  {
   "cell_type": "code",
   "execution_count": null,
   "metadata": {
    "id": "58nQFBWPEAk3"
   },
   "outputs": [],
   "source": [
    "#another shortcut\n",
    "data['gender']"
   ]
  },
  {
   "cell_type": "code",
   "execution_count": null,
   "metadata": {
    "id": "6xIBmseMFmeO"
   },
   "outputs": [],
   "source": [
    "#watch out for mutability\n",
    "just_gender = data['gender']\n",
    "just_gender[1012]\n",
    "#just_gender"
   ]
  },
  {
   "cell_type": "code",
   "execution_count": null,
   "metadata": {
    "id": "MIQzhnrpHo3-"
   },
   "outputs": [],
   "source": [
    "just_gender[1012] = 'F'\n",
    "just_gender"
   ]
  },
  {
   "cell_type": "code",
   "execution_count": null,
   "metadata": {
    "id": "bY979SVjHs9V"
   },
   "outputs": [],
   "source": [
    "#whoah!\n",
    "data"
   ]
  },
  {
   "cell_type": "code",
   "execution_count": null,
   "metadata": {
    "id": "AoskWyxoIAZG"
   },
   "outputs": [],
   "source": [
    "just_gender_copied = data['gender'].copy()\n",
    "just_gender_copied[1014]"
   ]
  },
  {
   "cell_type": "code",
   "execution_count": null,
   "metadata": {
    "id": "XBAbuiK0IHrV"
   },
   "outputs": [],
   "source": [
    "just_gender_copied[1014] = 'F'\n",
    "just_gender_copied"
   ]
  },
  {
   "cell_type": "code",
   "execution_count": null,
   "metadata": {
    "id": "T9YCoOWSILYj"
   },
   "outputs": [],
   "source": [
    "#Now we have what we want:\n",
    "data"
   ]
  },
  {
   "cell_type": "code",
   "execution_count": null,
   "metadata": {
    "id": "Ielz0c6xIPY7"
   },
   "outputs": [],
   "source": [
    "#operations between columns\n",
    "# fraction of income donated\n",
    "data['target_d']/data['median_household_income']"
   ]
  },
  {
   "cell_type": "code",
   "execution_count": null,
   "metadata": {
    "id": "15R_Ly-FI3yX"
   },
   "outputs": [],
   "source": [
    "#new columns\n",
    "data['percent_income_donated'] = data['target_d']/data['median_household_income']\n",
    "data.head()"
   ]
  },
  {
   "cell_type": "code",
   "execution_count": null,
   "metadata": {
    "id": "ce3wTK_SI_gW",
    "scrolled": true
   },
   "outputs": [],
   "source": [
    "#boolean masks\n",
    "data['very_generous'] = data['percent_income_donated']>0.25\n",
    "data.head()"
   ]
  },
  {
   "cell_type": "code",
   "execution_count": null,
   "metadata": {
    "id": "wg-OmDq2JuuV"
   },
   "outputs": [],
   "source": [
    "#filtering!\n",
    "data[data['very_generous']==True]"
   ]
  },
  {
   "cell_type": "code",
   "execution_count": null,
   "metadata": {
    "id": "qQfguqD5KEQ9"
   },
   "outputs": [],
   "source": [
    "#filtering!\n",
    "data[data['target_d']==100]"
   ]
  },
  {
   "cell_type": "code",
   "execution_count": null,
   "metadata": {
    "id": "5Mg9l0T7KSQd"
   },
   "outputs": [],
   "source": [
    "#combining filters\n",
    "#filtering!\n",
    "data[(data['target_d']==100) & (data['very_generous']) ] # & = AND, | = OR"
   ]
  },
  {
   "cell_type": "code",
   "execution_count": null,
   "metadata": {
    "id": "MSkXGKXI9ExQ"
   },
   "outputs": [],
   "source": [
    "data[(data['state'].isin(['FL','Florida']))  & (data['avggift']<50)]"
   ]
  },
  {
   "cell_type": "code",
   "execution_count": null,
   "metadata": {
    "id": "U8MOVCYF9ExQ"
   },
   "outputs": [],
   "source": [
    "data['state'].isin(['FL','Florida'])"
   ]
  },
  {
   "cell_type": "code",
   "execution_count": 2,
   "metadata": {
    "executionInfo": {
     "elapsed": 233,
     "status": "ok",
     "timestamp": 1669047257595,
     "user": {
      "displayName": "Jan Molendijk",
      "userId": "00665875236133738524"
     },
     "user_tz": -60
    },
    "id": "9chIWlav9ExQ"
   },
   "outputs": [],
   "source": []
  },
  {
   "cell_type": "code",
   "execution_count": null,
   "metadata": {
    "id": "AOGDd7_pJNbk"
   },
   "outputs": [],
   "source": [
    "# deleting columns: how to\n",
    "data = data.drop(['tcode','percent_income_donated','very_generous'], axis=1)\n",
    "data.head()"
   ]
  },
  {
   "cell_type": "code",
   "execution_count": null,
   "metadata": {
    "id": "7Dpp4cr69ExR"
   },
   "outputs": [],
   "source": [
    "data1 = data.copy()\n",
    "data1.shape"
   ]
  },
  {
   "cell_type": "code",
   "execution_count": null,
   "metadata": {
    "id": "bek5rNVT9ExR"
   },
   "outputs": [],
   "source": [
    "data1 = data1.drop([0,1], axis=0)\n",
    "data1.head()"
   ]
  },
  {
   "cell_type": "code",
   "execution_count": null,
   "metadata": {
    "id": "1KBMEvAn9ExS"
   },
   "outputs": [],
   "source": [
    "data1.shape"
   ]
  },
  {
   "cell_type": "code",
   "execution_count": null,
   "metadata": {
    "id": "o-i8UHUN9ExT"
   },
   "outputs": [],
   "source": [
    "data1.loc[[2,3],:]"
   ]
  },
  {
   "cell_type": "code",
   "execution_count": null,
   "metadata": {
    "id": "sr3JGtqH9ExT"
   },
   "outputs": [],
   "source": [
    "data1 = data1.reset_index()"
   ]
  },
  {
   "cell_type": "code",
   "execution_count": null,
   "metadata": {
    "id": "Xmsin17V9ExT"
   },
   "outputs": [],
   "source": [
    "data1.loc[[2,3],:]"
   ]
  },
  {
   "cell_type": "code",
   "execution_count": null,
   "metadata": {
    "id": "9mCYXUvF9ExU"
   },
   "outputs": [],
   "source": [
    "data1.tail()"
   ]
  },
  {
   "cell_type": "code",
   "execution_count": null,
   "metadata": {
    "id": "KdxJAq9d9ExU"
   },
   "outputs": [],
   "source": [
    "data.loc[[0,1],:]"
   ]
  },
  {
   "cell_type": "code",
   "execution_count": null,
   "metadata": {
    "id": "LMVaMEXj9ExU"
   },
   "outputs": [],
   "source": [
    "data.head()"
   ]
  },
  {
   "cell_type": "code",
   "execution_count": null,
   "metadata": {
    "id": "7lKRnw8VBBsw"
   },
   "outputs": [],
   "source": [
    "# # deleting columns: how to\n",
    "#data = data.drop(['tcode'], axis =1) # Explain the argument axis, when axis is 0 and 1\n",
    "\n",
    "# # Rearranging columns: how to\n",
    "data = data[['id', 'state', 'gender', 'median_home_val', 'median_household_income', 'ic2', 'ic3', 'ic4', 'ic5', 'avggift', 'domain', 'dob', 'target_d']]"
   ]
  },
  {
   "cell_type": "code",
   "execution_count": null,
   "metadata": {
    "id": "0nivzRoD9ExV"
   },
   "outputs": [],
   "source": [
    "data['gender'].unique() "
   ]
  },
  {
   "cell_type": "code",
   "execution_count": null,
   "metadata": {
    "id": "vrE9sMr69ExV"
   },
   "outputs": [],
   "source": [
    "data.head()"
   ]
  },
  {
   "cell_type": "code",
   "execution_count": null,
   "metadata": {
    "id": "cgpUwr0j9ExV"
   },
   "outputs": [],
   "source": []
  },
  {
   "cell_type": "code",
   "execution_count": null,
   "metadata": {
    "id": "uBjdXu55BBsw"
   },
   "outputs": [],
   "source": [
    "#Activity 2\n"
   ]
  },
  {
   "cell_type": "code",
   "execution_count": null,
   "metadata": {
    "id": "t6L4-IHW9ExV"
   },
   "outputs": [],
   "source": []
  },
  {
   "cell_type": "code",
   "execution_count": null,
   "metadata": {
    "id": "SZVanv6eBBsx"
   },
   "outputs": [],
   "source": [
    "# 2\n"
   ]
  },
  {
   "cell_type": "code",
   "execution_count": null,
   "metadata": {
    "id": "eMcggyVk9ExW"
   },
   "outputs": [],
   "source": []
  },
  {
   "cell_type": "code",
   "execution_count": null,
   "metadata": {
    "id": "aiQmgWieBBsx"
   },
   "outputs": [],
   "source": [
    "# 3\n",
    "\n"
   ]
  },
  {
   "cell_type": "code",
   "execution_count": null,
   "metadata": {
    "id": "K3ISeN8v9ExX"
   },
   "outputs": [],
   "source": []
  },
  {
   "cell_type": "code",
   "execution_count": null,
   "metadata": {
    "id": "kcW_jQCq9ExX"
   },
   "outputs": [],
   "source": []
  },
  {
   "cell_type": "code",
   "execution_count": null,
   "metadata": {
    "id": "NgVAHy2yBBsx"
   },
   "outputs": [],
   "source": [
    "# 4\n"
   ]
  },
  {
   "cell_type": "code",
   "execution_count": null,
   "metadata": {
    "id": "Cscu_6cwBBsx"
   },
   "outputs": [],
   "source": [
    "# 5\n",
    "\n",
    "# End of Activity 2"
   ]
  },
  {
   "cell_type": "code",
   "execution_count": null,
   "metadata": {
    "id": "13MBt48uBBsy"
   },
   "outputs": [],
   "source": [
    "#filter and reset the index\n",
    "# important to play with the code and check the output\n",
    "filtered = data[data['gender']=='M']  # Lets say that we are working on this filtered data\n",
    "filtered"
   ]
  },
  {
   "cell_type": "code",
   "execution_count": null,
   "metadata": {
    "id": "2NuEeI0g9ExY"
   },
   "outputs": [],
   "source": [
    "data.loc[1]"
   ]
  },
  {
   "cell_type": "code",
   "execution_count": null,
   "metadata": {
    "id": "9ZOWtW_iqd0f"
   },
   "outputs": [],
   "source": [
    "# issue on the index\n",
    "filtered.loc[1]\n",
    "filtered.loc[3]"
   ]
  },
  {
   "cell_type": "code",
   "execution_count": null,
   "metadata": {
    "id": "mYX74YWWBBsy"
   },
   "outputs": [],
   "source": [
    "filtered = filtered.reset_index(drop=True)\n",
    "#filtered= filtered.drop(['index'], axis=1)\n",
    "filtered"
   ]
  },
  {
   "cell_type": "code",
   "execution_count": null,
   "metadata": {
    "id": "UVE3aKP_BBsy"
   },
   "outputs": [],
   "source": [
    "temp = filtered.copy()\n",
    "temp = temp.set_index('state') # This is a dummy case, but indexes should be unique and not nulls, usually auto-increments by 1\n",
    "temp.head()"
   ]
  },
  {
   "cell_type": "code",
   "execution_count": null,
   "metadata": {
    "id": "2BvXuovh9ExZ"
   },
   "outputs": [],
   "source": [
    "temp.loc[['FL','NC']]"
   ]
  },
  {
   "cell_type": "code",
   "execution_count": null,
   "metadata": {
    "id": "ERKWkKej9ExZ"
   },
   "outputs": [],
   "source": [
    "filtered[filtered['state']=='FL']"
   ]
  },
  {
   "cell_type": "code",
   "execution_count": null,
   "metadata": {
    "id": "V4c2tVAmBBsy"
   },
   "outputs": [],
   "source": [
    "# Working with indexes\n",
    "filtered[1:4]\n",
    "# filtered[['gender', 'ic2', 'ic3']][0:10]\n",
    "# filtered.loc[0:10,['gender', 'ic2', 'ic3']]\n",
    "filtered.loc[1:4]\n",
    "# filtered.loc[100]\n",
    "#filtered.iloc[1:4]\n",
    "\n"
   ]
  },
  {
   "cell_type": "code",
   "execution_count": null,
   "metadata": {
    "id": "InYo0w9sBBsz"
   },
   "outputs": [],
   "source": [
    "# now, working just on the indexes row,columns\n",
    "filtered.iloc[0:10,0:4]\n",
    "filtered.iloc[[1,2,4,3,8],[0,2,4]]"
   ]
  },
  {
   "cell_type": "code",
   "execution_count": null,
   "metadata": {
    "id": "KYN2EotFBBsz"
   },
   "outputs": [],
   "source": [
    "#Activity 3\n",
    "# 1 Filter the results where the gender is F \n",
    "#   and store the results in another DataFrame filtered2\n",
    "\n"
   ]
  },
  {
   "cell_type": "code",
   "execution_count": null,
   "metadata": {
    "id": "x_PgPlBhBBsz"
   },
   "outputs": [],
   "source": [
    "# 2 Check the first 10 rows of the DataFrame using the head() function.\n"
   ]
  },
  {
   "cell_type": "code",
   "execution_count": null,
   "metadata": {
    "id": "uGn36gbTBBsz"
   },
   "outputs": [],
   "source": [
    "# 3 Reset the index of filtered2 with and without using the parameter drop=True \n",
    "#   and check the difference in the results.\n"
   ]
  },
  {
   "cell_type": "code",
   "execution_count": null,
   "metadata": {
    "id": "t6BikDI3BBsz"
   },
   "outputs": [],
   "source": [
    "# 4 Show the rows from index number 100 to 200.\n",
    "#filtered2 = data[data['gender']=='F']\n"
   ]
  },
  {
   "cell_type": "code",
   "execution_count": null,
   "metadata": {
    "id": "sOFZ1KagBBs0"
   },
   "outputs": [],
   "source": [
    "# 5 Use iloc to get the first 100 rows and columns with indexes 2,3,4,5.\n",
    "\n",
    "\n",
    "#End of Activity 3"
   ]
  },
  {
   "cell_type": "code",
   "execution_count": null,
   "metadata": {
    "id": "FNPJBLSK9Exb"
   },
   "outputs": [],
   "source": [
    "data.head()"
   ]
  },
  {
   "cell_type": "code",
   "execution_count": null,
   "metadata": {
    "id": "kjyf947yBBs0"
   },
   "outputs": [],
   "source": [
    "# data types\n",
    "data.dtypes\n",
    "data._get_numeric_data()\n",
    "data._get_bool_data()\n",
    "data.select_dtypes('object')\n"
   ]
  },
  {
   "cell_type": "code",
   "execution_count": null,
   "metadata": {
    "id": "1jRJyOGPBBs0"
   },
   "outputs": [],
   "source": [
    "# correcting data types\n",
    "data['median_home_val'] =  pd.to_numeric(data['median_home_val'], errors='coerce')\n",
    "data['ic5'] =  pd.to_numeric(data['ic5'], errors='coerce')\n",
    "data.head(20)\n",
    "\n",
    "#data._get_numeric_data() # to check if 'median_home_val' and 'ic5' are now listed as numeric data"
   ]
  },
  {
   "cell_type": "code",
   "execution_count": null,
   "metadata": {
    "id": "l__I4GMt9Exd"
   },
   "outputs": [],
   "source": [
    "data.dtypes"
   ]
  },
  {
   "cell_type": "code",
   "execution_count": null,
   "metadata": {
    "id": "cV8N3IPNBBs0"
   },
   "outputs": [],
   "source": [
    "# Removing duplicates\n",
    "print(data.shape)\n",
    "data2 = data.copy()\n",
    "data2 = data2.drop_duplicates()  # nb keep argument\n",
    "print(data2.shape)\n",
    "# # # #if we want to remove duplicates based on some specific columns\n",
    "#data2 = data2.drop_duplicates(subset=['state','gender', 'ic2', 'ic3'])\n",
    "data2 = data2.drop_duplicates(subset=['state','gender', 'ic2', 'ic3'],keep='last')\n",
    "print(data2.shape)\n",
    "\n"
   ]
  },
  {
   "cell_type": "code",
   "execution_count": null,
   "metadata": {
    "id": "ZPu4ScxDBBs0"
   },
   "outputs": [],
   "source": [
    "# Activity 4\n",
    "\n",
    "# 1 Check the data types of all the columns in the DataFrame.\n"
   ]
  },
  {
   "cell_type": "code",
   "execution_count": null,
   "metadata": {
    "id": "HzAM0nHJBBs1"
   },
   "outputs": [],
   "source": [
    "# 2 Use select_dtypes() to select all the numerical columns in the DataFrame (both integers and floats).\n"
   ]
  },
  {
   "cell_type": "code",
   "execution_count": null,
   "metadata": {
    "id": "ofBz4B5eBBs1"
   },
   "outputs": [],
   "source": [
    "# 3 Convert the columns that have numerical values (which are now object types) to the numeric type.\n"
   ]
  },
  {
   "cell_type": "code",
   "execution_count": null,
   "metadata": {
    "id": "0oKLygBhBBs1"
   },
   "outputs": [],
   "source": [
    "# 4 Remove duplicates from the DataFrame if any.\n"
   ]
  },
  {
   "cell_type": "code",
   "execution_count": null,
   "metadata": {
    "id": "KQAA9Hba9Exe"
   },
   "outputs": [],
   "source": []
  }
 ],
 "metadata": {
  "colab": {
   "provenance": []
  },
  "kernelspec": {
   "display_name": "Python 3 (ipykernel)",
   "language": "python",
   "name": "python3"
  },
  "language_info": {
   "codemirror_mode": {
    "name": "ipython",
    "version": 3
   },
   "file_extension": ".py",
   "mimetype": "text/x-python",
   "name": "python",
   "nbconvert_exporter": "python",
   "pygments_lexer": "ipython3",
   "version": "3.7.3"
  }
 },
 "nbformat": 4,
 "nbformat_minor": 0
}
