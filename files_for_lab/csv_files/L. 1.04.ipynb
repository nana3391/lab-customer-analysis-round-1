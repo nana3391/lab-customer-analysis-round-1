{
 "cells": [
  {
   "cell_type": "code",
   "execution_count": null,
   "metadata": {
    "id": "soD15YZF6OmN"
   },
   "outputs": [],
   "source": [
    "# in case of new notebook, use the commented code to load the data:\n",
    "\n",
    "import pandas as pd\n",
    "\n",
    "file1 = pd.read_csv('./file1.csv')\n",
    "file2 = pd.read_csv('./file2.txt', sep = '\\t')\n",
    "file3 = pd.read_excel('./file3.xlsx')\n",
    "file4 = pd.read_excel('./file4.xlsx')\n",
    "column_names = file1.columns\n",
    "#donors = pd.DataFrame(columns=column_names)\n",
    "donors = pd.concat([file1,file2,file3,file4], axis=0)\n",
    "cols = []\n",
    "for colname in donors.columns:\n",
    "    cols.append(colname.lower())\n",
    "donors.columns = cols\n",
    "donors = donors.rename(columns={'controln':'id',\n",
    "                                'hv1':'median_home_val', \n",
    "                                'ic1':'median_household_income'})\n",
    "donors['median_home_val'] =  pd.to_numeric(donors['median_home_val'], errors='coerce')\n",
    "donors['ic5'] =  pd.to_numeric(donors['ic5'], errors='coerce')\n",
    "donors = donors.drop_duplicates()\n",
    "donors = donors.reset_index(drop=True)\n",
    "\n",
    "donors.shape\n"
   ]
  },
  {
   "cell_type": "code",
   "execution_count": null,
   "metadata": {
    "id": "4H_TqCLaAGYt"
   },
   "outputs": [],
   "source": [
    "donors.head()"
   ]
  },
  {
   "cell_type": "code",
   "execution_count": null,
   "metadata": {
    "id": "rMins2ug6OmQ"
   },
   "outputs": [],
   "source": [
    "donors.dtypes\n",
    "donors.head(25)"
   ]
  },
  {
   "cell_type": "code",
   "execution_count": null,
   "metadata": {
    "id": "zzEC_R4OAGYv"
   },
   "outputs": [],
   "source": [
    "donors.isna().sum()"
   ]
  },
  {
   "cell_type": "code",
   "execution_count": null,
   "metadata": {
    "id": "5Rj2Ehsj6OmT"
   },
   "outputs": [],
   "source": [
    "\n",
    "round(donors.isna().sum()/len(donors),4)*100  # shows the percentage of null values in a column\n",
    "nulls_df = pd.DataFrame(round(donors.isna().sum()/len(donors),4)*100)\n",
    "nulls_df\n",
    "nulls_df = nulls_df.reset_index()\n",
    "nulls_df\n",
    "nulls_df.columns = ['header_name', 'percent_nulls']\n",
    "nulls_df"
   ]
  },
  {
   "cell_type": "code",
   "execution_count": null,
   "metadata": {
    "id": "suNRjWOP6OmU"
   },
   "outputs": [],
   "source": [
    "columns_drop = nulls_df[nulls_df['percent_nulls']>3]['header_name']  # dummy case with 3\n",
    "print(columns_drop.values)\n",
    "#donors = donors.drop(columns_drop, axis=1)  # drop a list of columns DO NOT RUN THIS\n",
    "#donors = donors.drop(['gender'], axis=1)  # drop a single column DO NOT RUN THIS"
   ]
  },
  {
   "cell_type": "code",
   "execution_count": null,
   "metadata": {
    "id": "e2LVHZqU6OmU"
   },
   "outputs": [],
   "source": [
    "# Replacing/imputing null values\n",
    "\n",
    "donors[donors['gender'].isna()==True].head(60) # checking rows that are null based on a specific column\n"
   ]
  },
  {
   "cell_type": "code",
   "execution_count": null,
   "metadata": {
    "id": "MyE-hfRD6OmV"
   },
   "outputs": [],
   "source": [
    "# strategy: drop rows that have null values (only if there are very few)\n",
    "donors = donors[donors['ic2'].isna()==False] # Since these nulls are not a lot, we can filter them\n",
    "\n",
    "donors.isna().sum()\n",
    "donors.shape"
   ]
  },
  {
   "cell_type": "code",
   "execution_count": null,
   "metadata": {
    "id": "zlnPHp7E6OmV"
   },
   "outputs": [],
   "source": [
    "# strategy: impute a value for the missing value (fill in a value that we choose or calculate)\n",
    "# import numpy\n",
    "import numpy as np\n",
    "mean_median_home_value = donors['median_home_val'].mean()\n",
    "mean_median_home_value\n",
    "donors['median_home_val'] = donors['median_home_val'].fillna(mean_median_home_value)"
   ]
  },
  {
   "cell_type": "code",
   "execution_count": null,
   "metadata": {
    "id": "MndQT1B8AGYy"
   },
   "outputs": [],
   "source": [
    "donors['median_home_val'].mean()"
   ]
  },
  {
   "cell_type": "code",
   "execution_count": null,
   "metadata": {
    "id": "rFeRxcaW6OmW"
   },
   "outputs": [],
   "source": [
    "donors.isna().sum()"
   ]
  },
  {
   "cell_type": "code",
   "execution_count": null,
   "metadata": {
    "id": "aZD7865J6OmX"
   },
   "outputs": [],
   "source": [
    "#Activity 1"
   ]
  },
  {
   "cell_type": "markdown",
   "metadata": {
    "id": "SJANC1666Omb"
   },
   "source": [
    "Refer to the file files_for_activities/file1.csv for this exercise.\n",
    "\n",
    "Load data (file1.csv) in a new Jupyter notebook.\n",
    "Write the code to clean the columns 'ic4' and 'ic5' of null values in the dataframe.\n",
    "Use the head() to check the new dataframe."
   ]
  },
  {
   "cell_type": "code",
   "execution_count": null,
   "metadata": {
    "id": "95VEkHyj6Omc"
   },
   "outputs": [],
   "source": []
  },
  {
   "cell_type": "code",
   "execution_count": null,
   "metadata": {
    "id": "L3nG2Hh46Omd"
   },
   "outputs": [],
   "source": [
    "#End of Activity 1"
   ]
  },
  {
   "cell_type": "code",
   "execution_count": null,
   "metadata": {
    "id": "g9G2_4Qp6Omd"
   },
   "outputs": [],
   "source": [
    "# Replacing null values for categorical variables\n",
    "donors['gender'].unique()\n",
    "donors['gender'].value_counts()\n",
    "\n",
    "donors['gender'].value_counts(dropna=False)\n",
    "#len(donors[donors['gender'].isna()==True])  # number of missing values\n"
   ]
  },
  {
   "cell_type": "code",
   "execution_count": null,
   "metadata": {
    "id": "g4w5NK0X6Ome"
   },
   "outputs": [],
   "source": [
    "# use most common value to fillna\n",
    "donors['gender'] = donors['gender'].fillna('F')\n",
    "len(donors[donors['gender'].isna()==True]) # now this number is 0\n",
    "donors['gender'].value_counts(dropna=False)\n"
   ]
  },
  {
   "cell_type": "code",
   "execution_count": null,
   "metadata": {
    "id": "bAS2kVvl6Ome"
   },
   "outputs": [],
   "source": [
    "# Exporting this processed data to a csv\n",
    "donors.to_csv('merged_clean_ver0.csv', index=False) # you can find this file inside files_for_lesson_and_activities folder"
   ]
  },
  {
   "cell_type": "code",
   "execution_count": null,
   "metadata": {
    "id": "yaVYVm9AAGY4"
   },
   "outputs": [],
   "source": [
    "donors['gender'].value_counts(dropna=False)"
   ]
  },
  {
   "cell_type": "code",
   "execution_count": null,
   "metadata": {
    "id": "IgqB66Bl6Omf"
   },
   "outputs": [],
   "source": [
    "#Activity 2\n"
   ]
  },
  {
   "cell_type": "code",
   "execution_count": null,
   "metadata": {
    "id": "pdg5Ntuo6Omf"
   },
   "outputs": [],
   "source": [
    "# Refer to the file files_for_activities/merged_clean_ver1.csv for this exercise.\n",
    "\n",
    "#1 Import the data from merged_clean_ver1.csv as a dataframe. There would be a column with the sequence of numbers (to the left of column id). Drop that column(s).\n"
   ]
  },
  {
   "cell_type": "code",
   "execution_count": null,
   "metadata": {
    "id": "qjIGzPiJ6Omf"
   },
   "outputs": [],
   "source": []
  },
  {
   "cell_type": "code",
   "execution_count": null,
   "metadata": {
    "id": "rUWwdEft6Omf"
   },
   "outputs": [],
   "source": [
    "# 2 Check the column state for null values. Replace those null values with the state that is represented largest number of times in that column\n",
    "\n",
    "# ##data1['state'] = data1['state'].fillna('CA')"
   ]
  },
  {
   "cell_type": "code",
   "execution_count": null,
   "metadata": {
    "id": "FNFYNcCX6Omm"
   },
   "outputs": [],
   "source": [
    "#End of Activity 2\n"
   ]
  },
  {
   "cell_type": "code",
   "execution_count": null,
   "metadata": {
    "id": "DqTjnmTPAGY6"
   },
   "outputs": [],
   "source": [
    "donors.columns"
   ]
  },
  {
   "cell_type": "code",
   "execution_count": null,
   "metadata": {
    "id": "1F2iznmd6Omm"
   },
   "outputs": [],
   "source": [
    "# map functions\n",
    "\n",
    "list(map(len, donors.columns))\n",
    "list(map(lambda el: el.upper(), donors.columns)) # we did this with a for loop earlier\n",
    "# # # donors\n",
    "donors['gender'].unique() # check the unique values in the column\n",
    "donors['gender'] = list(map(lambda x: x.upper(), donors['gender']))\n",
    "donors['gender'].unique()"
   ]
  },
  {
   "cell_type": "code",
   "execution_count": null,
   "metadata": {
    "id": "zdwzUgqx6Omm"
   },
   "outputs": [],
   "source": [
    "#donors['gender'].unique()  # check the unique elements in the column\n",
    "# Now define a function to clean the column\n",
    "def clean(x):\n",
    "    if x in ['M', 'MALE']:\n",
    "        return 'Male'\n",
    "    elif x.startswith('F'):\n",
    "        return 'Female'\n",
    "    else:\n",
    "        return 'U'\n",
    "\n",
    "donors['gender'] = list(map(clean, donors['gender']))\n",
    "donors['gender'].unique()  # To check the results again\n",
    "\n",
    "\n"
   ]
  },
  {
   "cell_type": "code",
   "execution_count": null,
   "metadata": {
    "id": "XBUUie-J6Omn"
   },
   "outputs": [],
   "source": [
    "donors['gender'].value_counts()"
   ]
  },
  {
   "cell_type": "code",
   "execution_count": null,
   "metadata": {
    "id": "FFZweIFz6Omn"
   },
   "outputs": [],
   "source": []
  },
  {
   "cell_type": "code",
   "execution_count": null,
   "metadata": {
    "id": "AFE5Bw2j6Omo"
   },
   "outputs": [],
   "source": [
    "# Examples of working with datetime format:\n",
    "\n",
    "file = pd.read_csv('df_final_web_data_pt_1.csv')\n",
    "file.head()\n",
    "\n",
    "file['date_time'] = pd.to_datetime(file['date_time'], errors='coerce')\n",
    "file.head()\n",
    "\n"
   ]
  },
  {
   "cell_type": "code",
   "execution_count": null,
   "metadata": {
    "id": "bZFpgVAJAGY7"
   },
   "outputs": [],
   "source": [
    "file['date_time'][0]"
   ]
  },
  {
   "cell_type": "code",
   "execution_count": null,
   "metadata": {
    "id": "6DsxCKrn6Omo"
   },
   "outputs": [],
   "source": [
    "file['date_time'][0].day\n",
    "file['date_time'][0].month\n",
    "file['date_time'][0].year\n",
    "file['date_time'][0].isoweekday()  # Returns 1 for Monday and so on\n",
    "\n",
    "file['date_time'][0].time()\n",
    "file['date_time'][0].isoweekday()\n",
    "file['date_time'][0].isoformat()\n",
    "file['date_time'][0].strftime(format='%d-%m-%Y')\n",
    "file['date_time'][0].strftime(format=\"%A %d. %B %Y\")\n",
    "\n"
   ]
  },
  {
   "cell_type": "code",
   "execution_count": null,
   "metadata": {
    "id": "VdNuL2z_AGY7"
   },
   "outputs": [],
   "source": []
  },
  {
   "cell_type": "code",
   "execution_count": null,
   "metadata": {
    "id": "WOoJuurn6Omo"
   },
   "outputs": [],
   "source": [
    "import time\n",
    "from datetime import date\n",
    "\n",
    "today = date.today()\n",
    "today.strftime(format='%d-%m-%Y')\n",
    "\n",
    "time.localtime(time.time())\n",
    "time.gmtime(time.time())"
   ]
  },
  {
   "cell_type": "code",
   "execution_count": null,
   "metadata": {
    "id": "VAKCY9L_6Omq"
   },
   "outputs": [],
   "source": [
    "# Examples of working with string functions\n",
    "\n",
    "string = \" I am learning  data  analysis at Ironhack  . It is  super easy \"\n",
    "string.lower()\n",
    "string.upper()\n",
    "'34'.isdigit() # does not work with decimal numbers\n",
    "str2 = '42'\n",
    "str2.isdigit()\n",
    "string = string.lstrip()\n",
    "string\n",
    "string.rstrip()\n",
    "string.split()\n",
    "string.split('.')\n",
    "string.replace('  ', ' ')"
   ]
  },
  {
   "cell_type": "code",
   "execution_count": null,
   "metadata": {
    "id": "E3vsWMXi6Omr"
   },
   "outputs": [],
   "source": [
    "#Acticity 4\n",
    "# Create a user-defined method to clean the column state in the dataframe.\n",
    "# Use string functions to standardize the states to uppercase and use the strip function to clean the strings as well.\n"
   ]
  },
  {
   "cell_type": "code",
   "execution_count": null,
   "metadata": {
    "id": "WO1Kg0hI6Omw"
   },
   "outputs": [],
   "source": []
  },
  {
   "cell_type": "code",
   "execution_count": null,
   "metadata": {
    "id": "DuN-cvr56Omw"
   },
   "outputs": [],
   "source": [
    "#End Activity 4"
   ]
  },
  {
   "cell_type": "code",
   "execution_count": null,
   "metadata": {
    "id": "a564SfHc6Omw"
   },
   "outputs": [],
   "source": [
    "# Exporting this processed data to a csv\n",
    "donors.to_csv('merged_clean_ver2.csv') "
   ]
  },
  {
   "cell_type": "code",
   "execution_count": null,
   "metadata": {
    "id": "kvfmuntV6Omx"
   },
   "outputs": [],
   "source": []
  },
  {
   "cell_type": "code",
   "execution_count": null,
   "metadata": {
    "id": "heN4HZNn6Om0"
   },
   "outputs": [],
   "source": []
  },
  {
   "cell_type": "code",
   "execution_count": null,
   "metadata": {
    "id": "_Ye26dNM6Om1"
   },
   "outputs": [],
   "source": []
  }
 ],
 "metadata": {
  "colab": {
   "provenance": []
  },
  "kernelspec": {
   "display_name": "Python 3 (ipykernel)",
   "language": "python",
   "name": "python3"
  },
  "language_info": {
   "codemirror_mode": {
    "name": "ipython",
    "version": 3
   },
   "file_extension": ".py",
   "mimetype": "text/x-python",
   "name": "python",
   "nbconvert_exporter": "python",
   "pygments_lexer": "ipython3",
   "version": "3.7.3"
  }
 },
 "nbformat": 4,
 "nbformat_minor": 0
}
